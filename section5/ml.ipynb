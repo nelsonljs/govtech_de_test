{
 "cells": [
  {
   "cell_type": "markdown",
   "metadata": {},
   "source": [
    "## Section 5: Machine Learning\n",
    "Using the dataset from https://archive.ics.uci.edu/ml/datasets/Car+Evaluation, create a machine learning model to predict the buying price given the following parameters:\n",
    "\n",
    "Maintenance = High\n",
    "Number of doors = 4\n",
    "Lug Boot Size = Big\n",
    "Safety = High\n",
    "Class Value = Good\n"
   ]
  },
  {
   "cell_type": "code",
   "execution_count": 55,
   "metadata": {},
   "outputs": [
    {
     "name": "stdout",
     "output_type": "stream",
     "text": [
      "   Price  Maint doors persons lug_boot safety  class\n",
      "0  vhigh  vhigh     2       2    small    low  unacc\n",
      "1  vhigh  vhigh     2       2    small    med  unacc\n",
      "2  vhigh  vhigh     2       2    small   high  unacc\n",
      "3  vhigh  vhigh     2       2      med    low  unacc\n",
      "4  vhigh  vhigh     2       2      med    med  unacc\n"
     ]
    },
    {
     "data": {
      "text/plain": [
       "count     1728\n",
       "unique       4\n",
       "top          2\n",
       "freq       432\n",
       "Name: doors, dtype: object"
      ]
     },
     "execution_count": 55,
     "metadata": {},
     "output_type": "execute_result"
    }
   ],
   "source": [
    "## Data Exploration\n",
    "\n",
    "import pandas as pd\n",
    "\n",
    "mydf = pd.read_csv('cardata.csv')\n",
    "\n",
    "print(mydf.head(5))\n",
    "mydf['doors'].describe()"
   ]
  },
  {
   "cell_type": "markdown",
   "metadata": {},
   "source": [
    "Data is completely categorical.\n",
    "\n",
    "Use onehotencoding to perform simple logistic regression and see."
   ]
  },
  {
   "cell_type": "code",
   "execution_count": 39,
   "metadata": {},
   "outputs": [],
   "source": [
    "from sklearn.preprocessing import OneHotEncoder\n",
    "\n",
    "enc = OneHotEncoder(handle_unknown='ignore')\n",
    "target = mydf['class']\n",
    "X = mydf.loc[:, ~mydf.columns.isin(['class','Price'])]\n",
    "\n",
    "enc.fit(X)\n",
    "\n",
    "enc.categories_\n",
    "independ_variables_OHE = enc.transform(X).toarray()\n",
    "# enc.inverse_transform([[0, 1, 1, 0, 0], [0, 0, 0, 1, 0]])\n",
    "# enc.get_feature_names_out(['gender', 'group'])"
   ]
  },
  {
   "cell_type": "code",
   "execution_count": 40,
   "metadata": {},
   "outputs": [],
   "source": [
    "from sklearn.model_selection import train_test_split\n",
    "\n",
    "X_train, X_test, y_train, y_test = train_test_split(\n",
    "    independ_variables_OHE, \n",
    "    target, \n",
    "    test_size=0.33, \n",
    "    random_state=42)"
   ]
  },
  {
   "cell_type": "code",
   "execution_count": 41,
   "metadata": {},
   "outputs": [
    {
     "name": "stdout",
     "output_type": "stream",
     "text": [
      "0.8266199649737302\n"
     ]
    }
   ],
   "source": [
    "from sklearn.linear_model import LogisticRegression\n",
    "\n",
    "# Create an instance of Logistic Regression Classifier and fit the data.\n",
    "logreg = LogisticRegression(C=1e5)\n",
    "logreg.fit(X_train, y_train)\n",
    "\n",
    "print(logreg.score(X_test, y_test))"
   ]
  },
  {
   "cell_type": "markdown",
   "metadata": {},
   "source": [
    "### Observations from first round of data.\n",
    "\n",
    "Very poor accuracy from simple logistic regression. Some exploration of cooccurrence has to be done., and feature extraction can be done. Try Decision trees?"
   ]
  },
  {
   "cell_type": "code",
   "execution_count": 42,
   "metadata": {},
   "outputs": [
    {
     "name": "stdout",
     "output_type": "stream",
     "text": [
      "0.7618213660245184\n"
     ]
    }
   ],
   "source": [
    "from sklearn import tree\n",
    "clf = tree.DecisionTreeClassifier()\n",
    "\n",
    "clf = clf.fit(X_train, y_train)\n",
    "\n",
    "print(clf.score(X_test, y_test))"
   ]
  },
  {
   "cell_type": "markdown",
   "metadata": {},
   "source": [
    "Worse. Do some data exploration."
   ]
  },
  {
   "cell_type": "code",
   "execution_count": 45,
   "metadata": {},
   "outputs": [
    {
     "name": "stdout",
     "output_type": "stream",
     "text": [
      "vhigh    432\n",
      "high     432\n",
      "med      432\n",
      "low      432\n",
      "Name: Price, dtype: int64\n",
      "vhigh    432\n",
      "high     432\n",
      "med      432\n",
      "low      432\n",
      "Name: Maint, dtype: int64\n",
      "2        432\n",
      "3        432\n",
      "4        432\n",
      "5more    432\n",
      "Name: doors, dtype: int64\n",
      "2       576\n",
      "4       576\n",
      "more    576\n",
      "Name: persons, dtype: int64\n",
      "small    576\n",
      "med      576\n",
      "big      576\n",
      "Name: lug_boot, dtype: int64\n",
      "low     576\n",
      "med     576\n",
      "high    576\n",
      "Name: safety, dtype: int64\n",
      "unacc    1210\n",
      "acc       384\n",
      "good       69\n",
      "vgood      65\n",
      "Name: class, dtype: int64\n"
     ]
    }
   ],
   "source": [
    "for col in mydf.columns:\n",
    "    print(mydf[col].value_counts())   "
   ]
  },
  {
   "cell_type": "markdown",
   "metadata": {},
   "source": [
    "Each row is unique set of data. Dataset is not suitable for predicting Price using the other independent variables. Try to run regression purely on the supposed dependent variable.\n",
    "Dataset seems to be manufactured for predicting Class, with Class being the only reasonable predictor to use.\n",
    "\n",
    "Try all other combinations of regression variables since computation is not limiting."
   ]
  },
  {
   "cell_type": "code",
   "execution_count": 59,
   "metadata": {},
   "outputs": [
    {
     "data": {
      "text/html": [
       "<div>\n",
       "<style scoped>\n",
       "    .dataframe tbody tr th:only-of-type {\n",
       "        vertical-align: middle;\n",
       "    }\n",
       "\n",
       "    .dataframe tbody tr th {\n",
       "        vertical-align: top;\n",
       "    }\n",
       "\n",
       "    .dataframe thead th {\n",
       "        text-align: right;\n",
       "    }\n",
       "</style>\n",
       "<table border=\"1\" class=\"dataframe\">\n",
       "  <thead>\n",
       "    <tr style=\"text-align: right;\">\n",
       "      <th></th>\n",
       "      <th>Predictors</th>\n",
       "      <th>Score</th>\n",
       "    </tr>\n",
       "  </thead>\n",
       "  <tbody>\n",
       "    <tr>\n",
       "      <th>0</th>\n",
       "      <td>Maint,class</td>\n",
       "      <td>0.323993</td>\n",
       "    </tr>\n",
       "    <tr>\n",
       "      <th>28</th>\n",
       "      <td>Maint,persons,lug_boot,safety,class</td>\n",
       "      <td>0.322242</td>\n",
       "    </tr>\n",
       "    <tr>\n",
       "      <th>20</th>\n",
       "      <td>Maint,lug_boot,safety,class</td>\n",
       "      <td>0.318739</td>\n",
       "    </tr>\n",
       "    <tr>\n",
       "      <th>1</th>\n",
       "      <td>doors,class</td>\n",
       "      <td>0.318739</td>\n",
       "    </tr>\n",
       "    <tr>\n",
       "      <th>18</th>\n",
       "      <td>Maint,persons,lug_boot,class</td>\n",
       "      <td>0.313485</td>\n",
       "    </tr>\n",
       "    <tr>\n",
       "      <th>14</th>\n",
       "      <td>lug_boot,safety,class</td>\n",
       "      <td>0.311734</td>\n",
       "    </tr>\n",
       "    <tr>\n",
       "      <th>5</th>\n",
       "      <td>Maint,doors,class</td>\n",
       "      <td>0.311734</td>\n",
       "    </tr>\n",
       "    <tr>\n",
       "      <th>30</th>\n",
       "      <td>Maint,doors,persons,lug_boot,safety,class</td>\n",
       "      <td>0.309982</td>\n",
       "    </tr>\n",
       "    <tr>\n",
       "      <th>8</th>\n",
       "      <td>Maint,safety,class</td>\n",
       "      <td>0.308231</td>\n",
       "    </tr>\n",
       "    <tr>\n",
       "      <th>10</th>\n",
       "      <td>doors,lug_boot,class</td>\n",
       "      <td>0.306480</td>\n",
       "    </tr>\n",
       "    <tr>\n",
       "      <th>7</th>\n",
       "      <td>Maint,lug_boot,class</td>\n",
       "      <td>0.306480</td>\n",
       "    </tr>\n",
       "    <tr>\n",
       "      <th>17</th>\n",
       "      <td>Maint,doors,safety,class</td>\n",
       "      <td>0.306480</td>\n",
       "    </tr>\n",
       "    <tr>\n",
       "      <th>3</th>\n",
       "      <td>lug_boot,class</td>\n",
       "      <td>0.304729</td>\n",
       "    </tr>\n",
       "    <tr>\n",
       "      <th>27</th>\n",
       "      <td>Maint,doors,lug_boot,safety,class</td>\n",
       "      <td>0.304729</td>\n",
       "    </tr>\n",
       "    <tr>\n",
       "      <th>16</th>\n",
       "      <td>Maint,doors,lug_boot,class</td>\n",
       "      <td>0.304729</td>\n",
       "    </tr>\n",
       "    <tr>\n",
       "      <th>29</th>\n",
       "      <td>doors,persons,lug_boot,safety,class</td>\n",
       "      <td>0.302977</td>\n",
       "    </tr>\n",
       "    <tr>\n",
       "      <th>25</th>\n",
       "      <td>Maint,doors,persons,lug_boot,class</td>\n",
       "      <td>0.302977</td>\n",
       "    </tr>\n",
       "    <tr>\n",
       "      <th>6</th>\n",
       "      <td>Maint,persons,class</td>\n",
       "      <td>0.302977</td>\n",
       "    </tr>\n",
       "    <tr>\n",
       "      <th>24</th>\n",
       "      <td>persons,lug_boot,safety,class</td>\n",
       "      <td>0.302977</td>\n",
       "    </tr>\n",
       "    <tr>\n",
       "      <th>19</th>\n",
       "      <td>Maint,persons,safety,class</td>\n",
       "      <td>0.301226</td>\n",
       "    </tr>\n",
       "    <tr>\n",
       "      <th>4</th>\n",
       "      <td>safety,class</td>\n",
       "      <td>0.301226</td>\n",
       "    </tr>\n",
       "    <tr>\n",
       "      <th>23</th>\n",
       "      <td>doors,lug_boot,safety,class</td>\n",
       "      <td>0.297723</td>\n",
       "    </tr>\n",
       "    <tr>\n",
       "      <th>11</th>\n",
       "      <td>doors,safety,class</td>\n",
       "      <td>0.297723</td>\n",
       "    </tr>\n",
       "    <tr>\n",
       "      <th>13</th>\n",
       "      <td>persons,safety,class</td>\n",
       "      <td>0.292469</td>\n",
       "    </tr>\n",
       "    <tr>\n",
       "      <th>2</th>\n",
       "      <td>persons,class</td>\n",
       "      <td>0.292469</td>\n",
       "    </tr>\n",
       "    <tr>\n",
       "      <th>9</th>\n",
       "      <td>doors,persons,class</td>\n",
       "      <td>0.290718</td>\n",
       "    </tr>\n",
       "    <tr>\n",
       "      <th>22</th>\n",
       "      <td>doors,persons,safety,class</td>\n",
       "      <td>0.290718</td>\n",
       "    </tr>\n",
       "    <tr>\n",
       "      <th>26</th>\n",
       "      <td>Maint,doors,persons,safety,class</td>\n",
       "      <td>0.290718</td>\n",
       "    </tr>\n",
       "    <tr>\n",
       "      <th>15</th>\n",
       "      <td>Maint,doors,persons,class</td>\n",
       "      <td>0.290718</td>\n",
       "    </tr>\n",
       "    <tr>\n",
       "      <th>12</th>\n",
       "      <td>persons,lug_boot,class</td>\n",
       "      <td>0.287215</td>\n",
       "    </tr>\n",
       "    <tr>\n",
       "      <th>21</th>\n",
       "      <td>doors,persons,lug_boot,class</td>\n",
       "      <td>0.281961</td>\n",
       "    </tr>\n",
       "  </tbody>\n",
       "</table>\n",
       "</div>"
      ],
      "text/plain": [
       "                                   Predictors     Score\n",
       "0                                 Maint,class  0.323993\n",
       "28        Maint,persons,lug_boot,safety,class  0.322242\n",
       "20                Maint,lug_boot,safety,class  0.318739\n",
       "1                                 doors,class  0.318739\n",
       "18               Maint,persons,lug_boot,class  0.313485\n",
       "14                      lug_boot,safety,class  0.311734\n",
       "5                           Maint,doors,class  0.311734\n",
       "30  Maint,doors,persons,lug_boot,safety,class  0.309982\n",
       "8                          Maint,safety,class  0.308231\n",
       "10                       doors,lug_boot,class  0.306480\n",
       "7                        Maint,lug_boot,class  0.306480\n",
       "17                   Maint,doors,safety,class  0.306480\n",
       "3                              lug_boot,class  0.304729\n",
       "27          Maint,doors,lug_boot,safety,class  0.304729\n",
       "16                 Maint,doors,lug_boot,class  0.304729\n",
       "29        doors,persons,lug_boot,safety,class  0.302977\n",
       "25         Maint,doors,persons,lug_boot,class  0.302977\n",
       "6                         Maint,persons,class  0.302977\n",
       "24              persons,lug_boot,safety,class  0.302977\n",
       "19                 Maint,persons,safety,class  0.301226\n",
       "4                                safety,class  0.301226\n",
       "23                doors,lug_boot,safety,class  0.297723\n",
       "11                         doors,safety,class  0.297723\n",
       "13                       persons,safety,class  0.292469\n",
       "2                               persons,class  0.292469\n",
       "9                         doors,persons,class  0.290718\n",
       "22                 doors,persons,safety,class  0.290718\n",
       "26           Maint,doors,persons,safety,class  0.290718\n",
       "15                  Maint,doors,persons,class  0.290718\n",
       "12                     persons,lug_boot,class  0.287215\n",
       "21               doors,persons,lug_boot,class  0.281961"
      ]
     },
     "execution_count": 59,
     "metadata": {},
     "output_type": "execute_result"
    }
   ],
   "source": [
    "from sklearn.preprocessing import OneHotEncoder\n",
    "\n",
    "def get_score(predictor_variables):\n",
    "\n",
    "    enc = OneHotEncoder(handle_unknown='ignore')\n",
    "    target = mydf['Price']\n",
    "    X = mydf.loc[:, list(predictor_variables)]\n",
    "\n",
    "    enc.fit(X)\n",
    "    independ_variables_OHE = enc.transform(X).toarray()\n",
    "    # enc.inverse_transform([[0, 1, 1, 0, 0], [0, 0, 0, 1, 0]])\n",
    "    # enc.get_feature_names_out(['gender', 'group'])\n",
    "\n",
    "    from sklearn.model_selection import train_test_split\n",
    "\n",
    "    X_train, X_test, y_train, y_test = train_test_split(\n",
    "        independ_variables_OHE, \n",
    "        target, \n",
    "        test_size=0.33, \n",
    "        random_state=42)\n",
    "\n",
    "    from sklearn.linear_model import LogisticRegression\n",
    "\n",
    "    # Create an instance of Logistic Regression Classifier and fit the data.\n",
    "    logreg = LogisticRegression(C=1e5)\n",
    "    logreg.fit(X_train, y_train)\n",
    "\n",
    "    return logreg.score(X_test, y_test)\n",
    "\n",
    "import itertools\n",
    "\n",
    "predictor_columns = [i for i in mydf.columns if i not in ['Price','class']]\n",
    "\n",
    "my_records = []\n",
    "for i in range(len(predictor_columns)):\n",
    "    for j in itertools.combinations(predictor_columns,i+1):\n",
    "        j = list(j) + ['class']\n",
    "        score = get_score(j)\n",
    "        my_records.append({\n",
    "            'Predictors': ','.join(j),\n",
    "            'Score': score\n",
    "        })\n",
    "\n",
    "myscore_df = pd.DataFrame.from_records(my_records)\n",
    "myscore_df.sort_values('Score', ascending=False)"
   ]
  },
  {
   "cell_type": "markdown",
   "metadata": {},
   "source": [
    "## Use best performing model for predicting price?\n",
    "\n",
    "Best performing model uses, *Maint*, and *class*."
   ]
  },
  {
   "cell_type": "code",
   "execution_count": 65,
   "metadata": {},
   "outputs": [
    {
     "name": "stdout",
     "output_type": "stream",
     "text": [
      "['low']\n"
     ]
    },
    {
     "name": "stderr",
     "output_type": "stream",
     "text": [
      "c:\\Users\\Nelson\\Desktop\\Nelson\\Programming\\govtech_de_test\\.venv\\lib\\site-packages\\sklearn\\base.py:493: FutureWarning: The feature names should match those that were passed during fit. Starting version 1.2, an error will be raised.\n",
      "Feature names must be in the same order as they were in fit.\n",
      "\n",
      "  warnings.warn(message, FutureWarning)\n"
     ]
    }
   ],
   "source": [
    "from sklearn.preprocessing import OneHotEncoder\n",
    "\n",
    "def get_score(predictor_variables):\n",
    "\n",
    "    enc = OneHotEncoder(handle_unknown='ignore')\n",
    "    target = mydf['Price']\n",
    "    X = mydf.loc[:, list(predictor_variables)]\n",
    "\n",
    "    enc.fit(X)\n",
    "    independ_variables_OHE = enc.transform(X).toarray()\n",
    "    # enc.inverse_transform([[0, 1, 1, 0, 0], [0, 0, 0, 1, 0]])\n",
    "    # enc.get_feature_names_out(['gender', 'group'])\n",
    "\n",
    "    from sklearn.model_selection import train_test_split\n",
    "\n",
    "    X_train, X_test, y_train, y_test = train_test_split(\n",
    "        independ_variables_OHE, \n",
    "        target, \n",
    "        test_size=0.33, \n",
    "        random_state=42)\n",
    "\n",
    "    from sklearn.linear_model import LogisticRegression\n",
    "\n",
    "    # Create an instance of Logistic Regression Classifier and fit the data.\n",
    "    logreg = LogisticRegression(C=1e5)\n",
    "    logreg.fit(X_train, y_train)\n",
    "\n",
    "    return logreg, enc\n",
    "\n",
    "predictor_columns = ['class','Maint']\n",
    "\n",
    "# Maintenance = High\n",
    "# Number of doors = 4\n",
    "# Lug Boot Size = Big\n",
    "# Safety = High\n",
    "# Class Value = Good\n",
    "logreg, enc = get_score(predictor_columns)\n",
    "\n",
    "print(\n",
    "    logreg.predict(\n",
    "        enc.transform(\n",
    "            pd.DataFrame.from_records([{'Maint':'high','class':'good'}])\n",
    "            ).toarray()\n",
    "        )\n",
    "    )"
   ]
  },
  {
   "cell_type": "markdown",
   "metadata": {},
   "source": [
    "Price of car prediction: **Low**"
   ]
  }
 ],
 "metadata": {
  "kernelspec": {
   "display_name": "Python 3.10.4 ('.venv': venv)",
   "language": "python",
   "name": "python3"
  },
  "language_info": {
   "codemirror_mode": {
    "name": "ipython",
    "version": 3
   },
   "file_extension": ".py",
   "mimetype": "text/x-python",
   "name": "python",
   "nbconvert_exporter": "python",
   "pygments_lexer": "ipython3",
   "version": "3.10.4"
  },
  "orig_nbformat": 4,
  "vscode": {
   "interpreter": {
    "hash": "17fcbb0f56c05b0e1bde87ffb8d487166277a81d1edd56a2172126f6ef6c36cf"
   }
  }
 },
 "nbformat": 4,
 "nbformat_minor": 2
}
